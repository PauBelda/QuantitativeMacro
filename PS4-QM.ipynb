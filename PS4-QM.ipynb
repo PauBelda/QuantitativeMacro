{
 "cells": [
  {
   "cell_type": "markdown",
   "metadata": {},
   "source": [
    "<h1>Problem Set 4</h1> \n",
    "<h3><center>Quantitative Macro</center></h3>\n",
    "\n",
    "<center>Pau Belda-i-Tortosa</center>,\n",
    "\n",
    "<center>October 2018</center>\n",
    "\n",
    "<h3>Question 1: Value function iteration.</h3>\n",
    "\n",
    "*Pose the recursive formulation of the sequential problem without productivity shocks. Discretize the state space and the value function and solve for it under the computational variants listed below.*\n",
    "\n",
    "**Question 1.1. Recursive problem**\n",
    "\n",
    "The Recursive formulation of the sequential problem looks as follows: \n",
    "\n",
    "(1) $V(k) = max_{k' \\epsilon [0, y + (1-\\delta)k]} u (k^{(1-\\theta)} + (1-\\delta)k - k') + \\beta V(k')$\n",
    "\n",
    "Note that (1) labor is ineslastically supply, (2) there is no uncertainty and (3) there is perfect aggregation (then, the Fundamental Welfare Theorem holds and we can work with a single individual that stands for the whole economy). \n",
    "\n",
    "\n",
    "**a) Brut Force iterations**"
   ]
  },
  {
   "cell_type": "code",
   "execution_count": 2,
   "metadata": {},
   "outputs": [
    {
     "name": "stdout",
     "output_type": "stream",
     "text": [
      "Program Executed in 7.65\n",
      "Number of iterations: 99\n"
     ]
    },
    {
     "data": {
      "text/plain": [
       "Text(0,0.5,'Utility')"
      ]
     },
     "execution_count": 2,
     "metadata": {},
     "output_type": "execute_result"
    },
    {
     "data": {
      "image/png": "[encoded data removed]",
      "text/plain": [
       "<Figure size 432x288 with 1 Axes>"
      ]
     },
     "metadata": {},
     "output_type": "display_data"
    }
   ],
   "source": [
    "#Import packages\n",
    "import numpy as np\n",
    "import matplotlib.pyplot as plt\n",
    "import timeit\n",
    "import warnings\n",
    "warnings.filterwarnings(\"ignore\", category=RuntimeWarning)\n",
    "\n",
    "#Set the parameters value\n",
    "beta=0.988   \n",
    "theta=.679\n",
    "delta=.013\n",
    "kappa=5.24\n",
    "nu=2\n",
    "start = timeit.default_timer()\n",
    "\n",
    "# STEP 1: DISCRETIZE THE STATE SPACE. \n",
    "k_ss=(1/(1-theta)*((1/beta)+delta-1))**(-1/theta)\n",
    "k=np.linspace(0.01,1.5*k_ss,100)#evenly spaced grid. \n",
    "\n",
    "#STEP 2: Initial guess\n",
    "#Define a matrix which column vectors are sequential iterations of the value function. \n",
    "V = np.empty(shape=[100, 350])\n",
    "#Guess the initial column vector\n",
    "V[:,0]=np.zeros((100))\n",
    "\n",
    "\n",
    "#STEP 3: Feasible return matrix (M).\n",
    "# Get the grid of all possible combinations of inputs. \n",
    "Z1,Z2=np.meshgrid(k,k)\n",
    "\n",
    "# Feasible combinations\n",
    "def feasibility(z1,z2):\n",
    "    return z1**(1-theta) + (1-delta)*z1 - z2\n",
    "\n",
    "#Evaluate the feasibility of different combinations of k_t and k_t+1.\n",
    "N = feasibility(Z1,Z2)\n",
    "\n",
    "# Feasible utility function\n",
    "def utility(z1,z2):\n",
    "    for i in range(100):\n",
    "        for j in range (100):\n",
    "                if N[i,j]>=0:\n",
    "                    return np.log10(z1**(1-theta) + (1-delta)*z1 - z2) - (kappa/(1+(1/nu)))\n",
    "            \n",
    "#Define the feasible return matrix\n",
    "M = utility(Z1,Z2)\n",
    "M[np.isnan(M)] = -100\n",
    "\n",
    "#STEP 4: VALUE FUNCTION MATRIX ITERATION\n",
    "X = np.empty(shape=[100, 100])\n",
    "G= np.empty(shape=[100, 350])\n",
    "count=0\n",
    "for s in range(0,349):\n",
    "    epsilon=0.01\n",
    "    for i in range(100):\n",
    "        for j in range(100):\n",
    "                X[i,j]=M[i,j]+(beta*V[:,s][j])        \n",
    "    for i in range(0,100):\n",
    "        V[:,s+1][i]= np.amax(X[:,i]) #Iteration\n",
    "        G[:,s][i]=np.argmax(X[:,i]) # This line stores the policy function at each iteration. \n",
    "        for i in range(0,100):\n",
    "            if abs(V[:,s+1][i]-V[:,s][i])> epsilon:\n",
    "                continue\n",
    "            else:\n",
    "                count +=1\n",
    "                break\n",
    "\n",
    "stop = timeit.default_timer()\n",
    "execution_time = stop - start\n",
    "execution_time=round(execution_time,2)\n",
    "print('Program Executed in', execution_time) #It returns time in sec\n",
    "print('Number of iterations:', count)\n",
    "\n",
    "#STEP 6: PLOT \n",
    "k=np.linspace(0.01,2*k_ss,100)\n",
    "plt.plot(k,V[:,349])\n",
    "plt.title('Brute Force Value Function')\n",
    "plt.xlabel('Capital')\n",
    "plt.ylabel('Utility')"
   ]
  },
  {
   "cell_type": "markdown",
   "metadata": {},
   "source": [
    "The value function is reaching a fixed point in 7.65 seconds and 99 iterations. It shows decreasing returns w.r.t. capital. It takes very negative values because the RA is not having leisure. "
   ]
  },
  {
   "cell_type": "markdown",
   "metadata": {},
   "source": [
    "**b) Monotonicity of the policy function.**"
   ]
  },
  {
   "cell_type": "code",
   "execution_count": 25,
   "metadata": {},
   "outputs": [
    {
     "name": "stdout",
     "output_type": "stream",
     "text": [
      "Program Executed in 6.35\n"
     ]
    },
    {
     "data": {
      "image/png": "[encoded data removed]",
      "text/plain": [
       "<Figure size 432x288 with 1 Axes>"
      ]
     },
     "metadata": {},
     "output_type": "display_data"
    }
   ],
   "source": [
    "start = timeit.default_timer()\n",
    "\n",
    "#STEP 4    \n",
    "X = np.empty(shape=[100, 100])\n",
    "G= np.empty(shape=[100, 350])\n",
    "count=0\n",
    "for s in range(0,349):\n",
    "    epsilon=0.01\n",
    "    for i in range(100):\n",
    "        for j in range(100):\n",
    "            if j >= G[:,s+1][i]: #Monotonicity\n",
    "                X[i,j]=M[i,j]+(beta*V[:,s][j])        \n",
    "    for i in range(0,100):\n",
    "        V[:,s+1][i]= np.amax(X[:,i]) #Iteration\n",
    "        G[:,s][i]=np.argmax(X[:,i]) # This line stores the policy function at each iteration. \n",
    "    for i in range(0,100):\n",
    "        if abs(V[:,s+1][i]-V[:,s][i])> epsilon:\n",
    "            continue\n",
    "        else:\n",
    "            count +=1\n",
    "            break\n",
    "                \n",
    "stop = timeit.default_timer()\n",
    "execution_time = stop - start\n",
    "execution_time=round(execution_time,2)\n",
    "print('Program Executed in', execution_time) #It returns time in sec\n",
    "#print('Number of iterations:', count)\n",
    "\n",
    "#STEP 5: PLOT\n",
    "k1=np.linspace(0.01,1.5*k_ss,100)\n",
    "plt.plot(k1,V[:,349])\n",
    "plt.title('Value Function (with monotonicity)')\n",
    "plt.xlabel('Capital')\n",
    "plt.ylabel('Utility')\n",
    "#plt.xlim([0,90])\n",
    "#plt.ylim([0,45])\n",
    "plt.show()"
   ]
  },
  {
   "cell_type": "markdown",
   "metadata": {},
   "source": [
    "Using monotonicity, we reach the same value function a bit faster. However, the improvement is not relevant (from 7 to 6 seconds). \n",
    "\n",
    "**c) Concavity of the Value Function.**"
   ]
  },
  {
   "cell_type": "code",
   "execution_count": 17,
   "metadata": {},
   "outputs": [
    {
     "name": "stdout",
     "output_type": "stream",
     "text": [
      "Program Executed in 4.67\n",
      "Number of iterations: 349\n"
     ]
    },
    {
     "data": {
      "image/png": "[encoded data removed]",
      "text/plain": [
       "<Figure size 432x288 with 1 Axes>"
      ]
     },
     "metadata": {},
     "output_type": "display_data"
    }
   ],
   "source": [
    "start = timeit.default_timer()\n",
    "\n",
    "#STEP 4   \n",
    "V1=np.empty(shape=[100, 350])\n",
    "X1 = np.empty(shape=[100, 100])\n",
    "G= np.empty(shape=[100, 350])\n",
    "count=0\n",
    "for s in range(0,349):\n",
    "    epsilon=0.01\n",
    "    for i in range(100):\n",
    "        for j in range(100):\n",
    "            if X1[i,j-1]<X1[i,j]: #Concavity\n",
    "                X1[i,j]=M[i,j]+(beta*V[:,s][j])        \n",
    "    for i in range(0,100):\n",
    "        V1[:,s+1][i]= np.amax(X1[:,i]) #Iteration\n",
    "        G[:,s][i]=np.argmax(X1[:,i]) # This line stores the policy function at each iteration. \n",
    "    for i in range(0,100):\n",
    "        if abs(V1[:,s+1][i]-V1[:,s][i])> epsilon:\n",
    "            continue\n",
    "        else:\n",
    "            count +=1\n",
    "            break\n",
    "                \n",
    "stop = timeit.default_timer()\n",
    "execution_time = stop - start\n",
    "execution_time=round(execution_time,2)\n",
    "print('Program Executed in', execution_time) #It returns time in sec\n",
    "print('Number of iterations:', count)\n",
    "\n",
    "#STEP 5: PLOT\n",
    "k1=np.linspace(0.01,1.5*k_ss,100)\n",
    "plt.plot(k1,V[:,349])\n",
    "plt.title('Value Function (with concavity)')\n",
    "plt.xlabel('Capital')\n",
    "plt.ylabel('Utility')\n",
    "#plt.xlim([0,90])\n",
    "#plt.ylim([0,45])\n",
    "plt.show()"
   ]
  },
  {
   "cell_type": "markdown",
   "metadata": {},
   "source": [
    "Using the concavity property, we reach our fixed point faster (4.67 seconds rather than 7.65), which is a good improvement. \n",
    "\n",
    "** d) Local search**"
   ]
  },
  {
   "cell_type": "code",
   "execution_count": 16,
   "metadata": {},
   "outputs": [
    {
     "name": "stdout",
     "output_type": "stream",
     "text": [
      "Program Executed in 5.85\n",
      "Number of iterations: 349\n"
     ]
    },
    {
     "data": {
      "image/png": "[encoded data removed]",
      "text/plain": [
       "<Figure size 432x288 with 1 Axes>"
      ]
     },
     "metadata": {},
     "output_type": "display_data"
    }
   ],
   "source": [
    "start = timeit.default_timer()\n",
    "\n",
    "#STEP 4': VALUE FUNCTION MATRIX ITERATION\n",
    "V1 = np.empty(shape=[100, 350])\n",
    "V1[:,0]=np.zeros((100))\n",
    "G1 = np.empty(shape=[100, 350])\n",
    "X1 = np.empty(shape=[100, 350]) \n",
    "count3=0\n",
    "for s in range(0,349):\n",
    "    epsilon=0.01\n",
    "    for i in range(99):\n",
    "        for j in range(100):\n",
    "            if j==G1[:,s+1][i+1] or j==G1[:,s+1][i-1]: #Restrict the search to neighbour points. \n",
    "                X1[i,j]=M[i,j]+(beta*V1[:,s][j])\n",
    "                X1[np.isnan(X1)] = 0 \n",
    "    for i in range(0,100):\n",
    "        V1[:,s+1][i]= np.amax(X1[i,:])\n",
    "        G1[:,s]=np.argmax(X1[i,:])\n",
    "    for i in range(0,100):\n",
    "        if abs(V1[:,s+1][i]-V1[:,s][i])< epsilon:\n",
    "            count3 +=1\n",
    "            break\n",
    "        else:\n",
    "            continue\n",
    "\n",
    "stop = timeit.default_timer()\n",
    "execution_time = stop - start\n",
    "execution_time=round(execution_time,2)\n",
    "print('Program Executed in', execution_time) \n",
    "print('Number of iterations:', count3)\n",
    "\n",
    "#STEP 5: PLOT\n",
    "k1=np.linspace(0.01,1.5*k_ss,100)\n",
    "plt.plot(k1,V[:,349])\n",
    "plt.title('Value Function')\n",
    "plt.xlabel('Capital')\n",
    "plt.ylabel('Utility')\n",
    "#plt.xlim([0,50])\n",
    "#plt.ylim([0,45])\n",
    "plt.show()\n"
   ]
  },
  {
   "cell_type": "markdown",
   "metadata": {},
   "source": [
    "Using local search we improve the time, but still need much more iterations than with the brute force method. \n",
    "\n",
    "** e) Monotonicity and concavity**"
   ]
  },
  {
   "cell_type": "code",
   "execution_count": 21,
   "metadata": {},
   "outputs": [
    {
     "name": "stdout",
     "output_type": "stream",
     "text": [
      "Program Executed in 4.49\n",
      "Number of iterations: 349\n"
     ]
    },
    {
     "data": {
      "image/png": "[encoded data removed]",
      "text/plain": [
       "<Figure size 432x288 with 1 Axes>"
      ]
     },
     "metadata": {},
     "output_type": "display_data"
    }
   ],
   "source": [
    "start = timeit.default_timer()\n",
    "\n",
    "#STEP 4   \n",
    "V1=np.empty(shape=[100, 350])\n",
    "X1 = np.empty(shape=[100, 100])\n",
    "G= np.empty(shape=[100, 350])\n",
    "count=0\n",
    "for s in range(0,349):\n",
    "    epsilon=0.01\n",
    "    for i in range(100):\n",
    "        for j in range(100):\n",
    "            if j >= G[:,s+1][i]: #Monotonicity\n",
    "                if X1[i,j-1]<X1[i,j]: #Concavity\n",
    "                    X1[i,j]=M[i,j]+(beta*V[:,s][j])        \n",
    "    for i in range(0,100):\n",
    "        V1[:,s+1][i]= np.amax(X1[:,i]) #Iteration\n",
    "        G[:,s][i]=np.argmax(X1[:,i]) # This line stores the policy function at each iteration. \n",
    "    for i in range(0,100):\n",
    "        if abs(V1[:,s+1][i]-V1[:,s][i])> epsilon:\n",
    "            continue\n",
    "        else:\n",
    "            count +=1\n",
    "            break\n",
    "                \n",
    "stop = timeit.default_timer()\n",
    "execution_time = stop - start\n",
    "execution_time=round(execution_time,2)\n",
    "print('Program Executed in', execution_time) #It returns time in sec\n",
    "print('Number of iterations:', count)\n",
    "\n",
    "#STEP 5: PLOT\n",
    "k1=np.linspace(0.01,1.5*k_ss,100)\n",
    "plt.plot(k1,V[:,200])\n",
    "plt.title('Value Function (with monotonicity & concavity)')\n",
    "plt.xlabel('Capital')\n",
    "plt.ylabel('Utility')\n",
    "#plt.xlim([0,90])\n",
    "#plt.ylim([0,45])\n",
    "plt.show()"
   ]
  },
  {
   "cell_type": "markdown",
   "metadata": {},
   "source": [
    "Using both, monotonicity and concavity, we speed up our initial method, but again, the number of iterations is larger. Note that the code has 2 additional statements in the for loop. \n",
    "\n",
    "**Comments on the results**:\n",
    "With the brute force VFI we get our VF with a little number of iterations and it didn't take too much. The other methods introduces more loops in the algorithm and then, there is a trade off between the speed and the number of iterations. Since there is no a very clear net gain, from now on we will use brute force VFI for the rest of the PS. \n",
    "\n",
    "** Question 1.2. Continuous Labor**\n",
    "\n"
   ]
  },
  {
   "cell_type": "code",
   "execution_count": 2,
   "metadata": {},
   "outputs": [
    {
     "name": "stdout",
     "output_type": "stream",
     "text": [
      "Program Executed in 22.3\n",
      "Number of iterations: 349\n"
     ]
    },
    {
     "data": {
      "image/png": "[encoded data removed]",
      "text/plain": [
       "<Figure size 432x288 with 1 Axes>"
      ]
     },
     "metadata": {},
     "output_type": "display_data"
    }
   ],
   "source": [
    "#Import packages\n",
    "import numpy as np\n",
    "import matplotlib.pyplot as plt\n",
    "import timeit\n",
    "import warnings\n",
    "warnings.filterwarnings(\"ignore\", category=RuntimeWarning)\n",
    "\n",
    "#Set the parameters value\n",
    "beta=0.988   \n",
    "theta=.679\n",
    "delta=.013\n",
    "kappa=5.24\n",
    "nu=2\n",
    "start = timeit.default_timer()\n",
    "\n",
    "# STEP 1: DISCRETIZE THE STATE SPACE. \n",
    "k_ss=(1/(1-theta)*((1/beta)+delta-1))**(-1/theta)\n",
    "k=np.linspace(0.01,1.5*k_ss,100)#evenly spaced grid. \n",
    "h=np.linspace(0,1,5)\n",
    "\n",
    "#STEP 2: Initial guess\n",
    "#Define a matrix which column vectors are sequential iterations of the value function. \n",
    "V = np.empty(shape=[100, 350])\n",
    "#Guess the initial column vector\n",
    "V[:,0]=np.zeros((100))\n",
    "\n",
    "\n",
    "#STEP 3: Feasible return matrix (M).\n",
    "# Get the grid of all possible combinations of inputs. \n",
    "Z1,Z2,H =np.meshgrid(k,k,h)\n",
    "\n",
    "# Feasible combinations\n",
    "def feasibility(z1,z2,h):\n",
    "    return (z1**(1-theta))*(h**theta) + (1-delta)*z1 - z2\n",
    "\n",
    "#Evaluate the feasibility of different combinations of k_t and k_t+1.\n",
    "N = feasibility(Z1,Z2,H)\n",
    "\n",
    "# Feasible utility function\n",
    "def utility(z1,z2,h):\n",
    "       for i,j,m in zip(range(0,100),range(0,100),range(0,5)):\n",
    "        if N[i,j,m]>=0:\n",
    "            return np.log10(z1**(1-theta)*(h**theta) + (1-delta)*z1 - z2) - (kappa/(1+(1/nu)))*(h**(1+(1/nu)))\n",
    "   \n",
    "            \n",
    "#Define the feasible return matrix\n",
    "M = utility(Z1,Z2,H)\n",
    "np.shape(M)\n",
    "M[np.isnan(M)] = 0\n",
    "\n",
    "#STEP 4: VALUE FUNCTION MATRIX ITERATION\n",
    "X = np.empty(shape=[100, 100, 5])\n",
    "G= np.empty(shape=[100, 350])\n",
    "count=0\n",
    "for s in range(0,349):\n",
    "    epsilon=0.01\n",
    "    for i in range(100):\n",
    "        for j in range(100):\n",
    "            for m in range(5):\n",
    "                X[i,j,m]=M[i,j,m]+(beta*V[:,s][j])\n",
    "    for i in range(0,100):\n",
    "        V[:,s+1][i]= np.amax(X[:,i]) #Iteration\n",
    "        G[:,s][i]=np.argmax(X[:,i]) # This line stores the policy function at each iteration. \n",
    "    for i in range(0,100):\n",
    "        if abs(V[:,s+1][i]-V[:,s][i])< epsilon:\n",
    "            count +=1\n",
    "            break\n",
    "        else:\n",
    "            continue\n",
    "\n",
    "\n",
    "stop = timeit.default_timer()\n",
    "execution_time = stop - start\n",
    "execution_time=round(execution_time,2)\n",
    "print('Program Executed in', execution_time) #It returns time in sec\n",
    "\n",
    "#STEP 6: PLOT \n",
    "k=np.linspace(0.01,2*k_ss,100)\n",
    "plt.plot(k,V[:,349])\n",
    "plt.title('Value Function (with Labor supply)')\n",
    "plt.xlabel('Capital')\n",
    "plt.ylabel('Utility')\n",
    "#plt.xlim([0,90])\n",
    "#plt.ylim([0,45])\n",
    "print('Number of iterations:', count)"
   ]
  },
  {
   "cell_type": "markdown",
   "metadata": {},
   "source": [
    "Once we introduce leisure (so $h_t$ is not necessarily 1 anymore), the utility we got is positive. However, since we have an additional control variable, it takes much more time to reach the fixed point. \n",
    "\n",
    "\n",
    "** Question 1.3. Chebyshev regression algorithm **\n",
    "\n",
    "(We follow Makoto Nakajima notes)\n"
   ]
  },
  {
   "cell_type": "code",
   "execution_count": 23,
   "metadata": {},
   "outputs": [
    {
     "name": "stdout",
     "output_type": "stream",
     "text": [
      "Program Executed in 0.26\n",
      "Number of iterations: 100\n"
     ]
    },
    {
     "data": {
      "text/plain": [
       "Text(0.5,1,'Chebyshev approximation')"
      ]
     },
     "execution_count": 23,
     "metadata": {},
     "output_type": "execute_result"
    },
    {
     "data": {
      "image/png": "[encoded data removed]",
      "text/plain": [
       "<Figure size 432x288 with 1 Axes>"
      ]
     },
     "metadata": {},
     "output_type": "display_data"
    }
   ],
   "source": [
    "#VFI with Chebyshev regression (we follow Makoto Nakajima notes)\n",
    "\n",
    "import numpy as np\n",
    "import matplotlib.pyplot as plt\n",
    "import timeit\n",
    "import warnings\n",
    "warnings.filterwarnings(\"ignore\", category=RuntimeWarning)\n",
    "\n",
    "#STEP 1: Set the order of polynomials used for approximation.\n",
    "n=2\n",
    "\n",
    "#STEP 2: Set the tolerance parameter\n",
    "epsilon=0.01\n",
    "\n",
    "#STEP 3: Upper and lower bound of the discrete space state\n",
    "beta=0.988   \n",
    "theta=.679\n",
    "delta=.013\n",
    "kappa=5.24\n",
    "nu=2\n",
    "k_ss=(1/(1-theta)*((1/beta)+delta-1))**(-1/theta)\n",
    "k=np.linspace(0.01,1.5*k_ss,100)#evenly spaced grid. \n",
    "\n",
    "#STEP 4: Compute the collocations nodes. \n",
    "# a) Cheby nodes [-1,1]\n",
    "nodes=[]\n",
    "for i in range(100):\n",
    "    q=np.cos((((2*i)-1)/200)*np.pi)\n",
    "    nodes.append(q)\n",
    "nodes=np.asarray(nodes)\n",
    "\n",
    "#b) Adjust the nodes to the [k0,1.5*k_ss] interval:\n",
    "nod=[]\n",
    "for i in range(100):\n",
    "    q=((nodes[i])*((1.5*k_ss - k[0])/2))+ (((1.5*k_ss + k[0])/2))\n",
    "    nod.append(q)\n",
    "nod=np.asarray(nod)\n",
    "    \n",
    "#STEP 5: Guess for the level of the value function at the points\n",
    "y0=np.ones(100)\n",
    "\n",
    "#STEP 5: Get the Chebyshev coefficients\n",
    "coefficients=np.polynomial.chebyshev.chebfit(nod,y0,n)\n",
    "\n",
    "#STEP 6: Value function guess\n",
    "V0=np.polynomial.chebyshev.chebval(k,coefficients)\n",
    "\n",
    "#STEP 7: Get the policy function\n",
    "#7.1. Get the feasible return matrix M\n",
    "\n",
    "Z1,Z2=np.meshgrid(k,k)\n",
    "def feasibility(z1,z2):\n",
    "    return z1**(1-theta) + (1-delta)*z1 - z2\n",
    "N = feasibility(Z1,Z2)\n",
    "def utility(z1,z2):\n",
    "    for i,j in zip(range(0,100),range(0,100)):\n",
    "        if N[i,j]>=0:\n",
    "            return np.log10(z1**(1-theta) + (1-delta)*z1 - z2) - (kappa/(1+(1/nu)))\n",
    "        else:\n",
    "            return -1000\n",
    "M = utility(Z1,Z2)\n",
    "\n",
    "#7.2. Get the policy function\n",
    "X = np.empty(shape=[100, 100])\n",
    "G0=np.empty(shape=[100,1])\n",
    "for i,j in zip(range(0,100),range(0,100)):\n",
    "    X[i,j]=M[i,j]+(beta*V0[j])\n",
    "    X[np.isnan(X)] = -1000    \n",
    "for i in range(0,100):\n",
    "    G0[i]=np.argmax(X[i,:]) \n",
    "\n",
    "#STEP 8: Update the value function\n",
    "y1=np.empty(shape=[100,1])\n",
    "for i in range(0,100):\n",
    "    y1[i]=utility(k[i],G0[i])+(beta*V0[i])\n",
    "y1[np.isnan(y1)] = 0\n",
    "y1=np.reshape(y1, (100,))\n",
    "\n",
    "#STEP 9: New guess for the coefficients\n",
    "coefficients1=np.polynomial.chebyshev.chebfit(nod,y1,n)\n",
    "\n",
    "\n",
    "#STEP 10: Compare the coefficients:\n",
    "d=np.amax(abs(coefficients - coefficients1))\n",
    "\n",
    "#Since the maximum distance is higher than the tolerance level, we go back to step 6. We need a loop.\n",
    "start = timeit.default_timer()\n",
    "count=0\n",
    "epsilon=0.01\n",
    "while d>epsilon and count<100:\n",
    "    V=np.polynomial.chebyshev.chebval(k,coefficients1) #VF guess\n",
    "    for i in range(100):\n",
    "        for j in range(100):\n",
    "            X[i,j]=M[i,j]+(beta*V[j])\n",
    "            X[np.isnan(X)] = -1000     \n",
    "        for i in range(0,100): #Policy function\n",
    "            G0[i]=np.argmax(X[i,:]) \n",
    "        for i in range(0,100): #Update the value function\n",
    "            y1[i]=utility(k[i],G0[i])+(beta*V[i])\n",
    "            y1[np.isnan(y1)] = 0\n",
    "            y1=np.reshape(y1, (100,))        \n",
    "        coefficients1=np.polynomial.chebyshev.chebfit(nod,y1,n)\n",
    "        d=np.amax(abs(coefficients - coefficients1))\n",
    "        count +=1\n",
    "\n",
    "stop = timeit.default_timer()\n",
    "execution_time = stop - start\n",
    "execution_time=round(execution_time,2)\n",
    "print('Program Executed in', execution_time) #It returns time in sec\n",
    "print('Number of iterations:', count)\n",
    "\n",
    "\n",
    "plt.plot(k,V)\n",
    "#plt.xlim([0,40])\n",
    "plt.title('Chebyshev approximation')"
   ]
  },
  {
   "cell_type": "markdown",
   "metadata": {},
   "source": [
    "With the Chebyshev algorithm we get the concave function we are looking for, with the negative utility values. Moreover, this algorithm is faster (0.26 seconds) and uses less iterations. The con is that the levels of utility are much less negative than they should. "
   ]
  },
  {
   "cell_type": "markdown",
   "metadata": {},
   "source": [
    "<h3>Question 2: Business cycle fluctuations.</h3>\n",
    "    \n",
    "\n",
    "**Question 2.1.: Productivity shocks**\n",
    "\n",
    "Recursive problem (social planner): \n",
    "\n",
    "(1) $V(k) = max_{k' \\epsilon [0, y + (1-\\delta)k]} u (k^{(1-\\theta)}h^\\theta + (1-\\delta)k - k') + \\beta [0.5 V(k',z^g) + 0.5 V(k',z^b)]$\n",
    "\n",
    "where $z^g$ and $z^b$ are standing for good and bad shock, respectively. Note that this is the **stochastic version with labor supply.** "
   ]
  },
  {
   "cell_type": "code",
   "execution_count": 6,
   "metadata": {},
   "outputs": [
    {
     "name": "stdout",
     "output_type": "stream",
     "text": [
      "Program Executed in 6.97\n",
      "Number of iterations: 335\n"
     ]
    },
    {
     "data": {
      "text/plain": [
       "<matplotlib.legend.Legend at 0x1c24efc588>"
      ]
     },
     "execution_count": 6,
     "metadata": {},
     "output_type": "execute_result"
    },
    {
     "data": {
      "image/png": "[encoded data removed]",
      "text/plain": [
       "<Figure size 432x288 with 1 Axes>"
      ]
     },
     "metadata": {},
     "output_type": "display_data"
    }
   ],
   "source": [
    "#STOCHASTIC, NO LABOR\n",
    "\n",
    "#Import packages\n",
    "import numpy as np\n",
    "import matplotlib.pyplot as plt\n",
    "import timeit\n",
    "import warnings\n",
    "warnings.filterwarnings(\"ignore\", category=RuntimeWarning)\n",
    "\n",
    "#Set the parameters value\n",
    "beta=0.988   \n",
    "theta=.679\n",
    "delta=.013\n",
    "kappa=5.24\n",
    "nu=2\n",
    "start = timeit.default_timer()\n",
    "\n",
    "# STEP 1: DISCRETIZE THE STATE SPACE. \n",
    "#Get the steady state values. h_ss=0.299\n",
    "k_ss=((1/(1-theta)*((1/beta)+delta-1))**(-1/theta))*0.299\n",
    "k=np.linspace(0.01,1.5*k_ss,100)#evenly spaced grid. \n",
    "z=[1.01, 1/1.01] #Shock grid\n",
    "\n",
    "#STEP 2: Initial guess\n",
    "#Define a matrix which column vectors are sequential iterations of the value function. \n",
    "V = np.empty(shape=[200, 350])\n",
    "#Guess the initial column vector\n",
    "V[:,0]=np.zeros((200))\n",
    "\n",
    "\n",
    "#STEP 3: Feasible return matrix (M).\n",
    "# Get the grid of all possible combinations of inputs. \n",
    "K1,K2 =np.meshgrid(k,k)\n",
    "\n",
    "# Get the submatrix M for z=1.01\n",
    "# Feasible combinations\n",
    "def feasibility0(z1,z2):\n",
    "    return (z1**(1-theta))*1.01 + (1-delta)*z1 - z2\n",
    "\n",
    "#Evaluate the feasibility of different combinations of k_t and k_t+1.\n",
    "N0 = feasibility0(K1,K2)\n",
    "\n",
    "# Feasible utility function\n",
    "def utility0(z1,z2):\n",
    "    for i in range(100):\n",
    "        for j in range (100):\n",
    "                if N0[i,j]>=0:\n",
    "                    return np.log10(z1**(1-theta)*1.01 + (1-delta)*z1 - z2)\n",
    "            \n",
    "#Define the feasible return matrix\n",
    "M0 = utility0(K1,K2)\n",
    "M0[np.isnan(M0)] = -100\n",
    "\n",
    "# Get the submatrix M for z=1/1.01\n",
    "# Feasible combinations\n",
    "def feasibility1(z1,z2):\n",
    "    return (z1**(1-theta))*(0.5/1.01) + (1-delta)*z1 - z2\n",
    "\n",
    "#Evaluate the feasibility of different combinations of k_t and k_t+1.\n",
    "N1 = feasibility1(K1,K2)\n",
    "\n",
    "# Feasible utility function\n",
    "def utility1(z1,z2):\n",
    "    for i in range(100):\n",
    "        for j in range (100):\n",
    "                if N1[i,j]>=0:\n",
    "                    return np.log10(z1**(1-theta)*(0.5/1.01) + (1-delta)*z1 - z2)\n",
    "            \n",
    "#Define the feasible return matrix\n",
    "M1 = utility1(K1,K2)\n",
    "M1[np.isnan(M1)] = -100\n",
    "\n",
    "#Now, stack the two submatrixes to get the stochastic return matrix M. \n",
    "M= np.vstack((M0,M1))\n",
    "\n",
    "#STEP 4: VALUE FUNCTION MATRIX ITERATION\n",
    "#Notice that since the expectation of the shock is 1, the vector V and W are the same. So we can proceed as before. \n",
    "X = np.empty(shape=[200,100])\n",
    "G= np.empty(shape=[200, 350])\n",
    "count=0\n",
    "for s in range(0,349):\n",
    "    epsilon=0.01\n",
    "    for i in range(200):\n",
    "        for j in range(100):\n",
    "                X[i,j]=M[i,j]+(beta*V[:,s][i])        \n",
    "    for i in range(0,200):\n",
    "        V[:,s+1][i]= np.amax(X[i,:]) #Iteration\n",
    "        G[:,s][i]=np.argmax(X[i,:]) # This line stores the policy function at each iteration. \n",
    "    for i in range(0,200):\n",
    "        if abs(V[:,s+1][i]-V[:,s][i])> epsilon:\n",
    "            continue\n",
    "        else:\n",
    "            count +=1\n",
    "            break\n",
    "\n",
    "stop = timeit.default_timer()\n",
    "execution_time = stop - start\n",
    "execution_time=round(execution_time,2)\n",
    "print('Program Executed in', execution_time) #It returns time in sec\n",
    "print('Number of iterations:', count)\n",
    "\n",
    "#STEP 6: PLOT \n",
    "k=np.linspace(1.5*k_ss,0.01, 100)\n",
    "V=V[:,51]\n",
    "V_good=V[0:100]\n",
    "V_bad=V[100:200]\n",
    "plt.plot(k,V_good, label='Good shock')\n",
    "plt.plot(k,V_bad, label='Bad shock')\n",
    "plt.title('Value Function')\n",
    "plt.xlabel('Capital')\n",
    "plt.ylabel('Utility')\n",
    "plt.legend()"
   ]
  },
  {
   "cell_type": "markdown",
   "metadata": {},
   "source": [
    "For solving this stochastic problem without labor supply we have used the brute force VFI. Notice that we have change the value of the good and bad shock, to see clearer the different value functions we got. "
   ]
  },
  {
   "cell_type": "markdown",
   "metadata": {},
   "source": [
    "**Question 2.2. : Simulation**"
   ]
  },
  {
   "cell_type": "code",
   "execution_count": 12,
   "metadata": {},
   "outputs": [
    {
     "data": {
      "text/plain": [
       "(0, 5)"
      ]
     },
     "execution_count": 12,
     "metadata": {},
     "output_type": "execute_result"
    },
    {
     "data": {
      "image/png": "[encoded data removed]",
      "text/plain": [
       "<Figure size 432x288 with 3 Axes>"
      ]
     },
     "metadata": {},
     "output_type": "display_data"
    }
   ],
   "source": [
    "#Simulation\n",
    "\n",
    "#Import packages\n",
    "import numpy as np\n",
    "import matplotlib.pyplot as plt\n",
    "import timeit\n",
    "import warnings\n",
    "warnings.filterwarnings(\"ignore\", category=RuntimeWarning) \n",
    "\n",
    "#Set the parameters value\n",
    "beta=0.988   \n",
    "theta=.679\n",
    "delta=.013\n",
    "kappa=5.24\n",
    "nu=2\n",
    "start = timeit.default_timer()\n",
    "\n",
    "# STEP 1: DISCRETIZE THE STATE SPACE. \n",
    "#Get the steady state values. h_ss=0.299\n",
    "k_ss=((1/(1-theta)*((1/beta)+delta-1))**(-1/theta))*0.299\n",
    "k=np.linspace(0.01,1.5*k_ss,100)#evenly spaced grid. \n",
    "z=[1.01, 1/1.01] #Shock grid\n",
    "\n",
    "#STEP 2: Initial guess\n",
    "#Define a matrix which column vectors are sequential iterations of the value function. \n",
    "V = np.empty(shape=[200, 350])\n",
    "#Guess the initial column vector\n",
    "V[:,0]=np.zeros((200))\n",
    "\n",
    "\n",
    "#STEP 3: Feasible return matrix (M).\n",
    "# Get the grid of all possible combinations of inputs. \n",
    "K1,K2 =np.meshgrid(k,k)\n",
    "\n",
    "# Get the submatrix M for z=1.01\n",
    "# Feasible combinations\n",
    "def feasibility0(z1,z2):\n",
    "    return (z1**(1-theta))*1.01 + (1-delta)*z1 - z2\n",
    "\n",
    "#Evaluate the feasibility of different combinations of k_t and k_t+1.\n",
    "N0 = feasibility0(K1,K2)\n",
    "\n",
    "# Feasible utility function\n",
    "def utility0(z1,z2):\n",
    "    for i in range(100):\n",
    "        for j in range (100):\n",
    "                if N0[i,j]>=0:\n",
    "                    return np.log10(z1**(1-theta)*1.01 + (1-delta)*z1 - z2)\n",
    "            \n",
    "#Define the feasible return matrix\n",
    "M0 = utility0(K1,K2)\n",
    "M0[np.isnan(M0)] = -1000\n",
    "\n",
    "# Get the submatrix M for z=0.5/1.01\n",
    "# Feasible combinations\n",
    "def feasibility1(z1,z2):\n",
    "    return ((z1**(1-theta))*(0.5/1.01)) + ((1-delta)*z1) - z2\n",
    "\n",
    "#Evaluate the feasibility of different combinations of k_t and k_t+1.\n",
    "N1 = feasibility1(K1,K2)\n",
    "\n",
    "# Feasible utility function\n",
    "def utility1(z1,z2):\n",
    "    for i in range(100):\n",
    "        for j in range (100):\n",
    "                if N1[i,j]>=0:\n",
    "                    return np.log10(z1**(1-theta)*(0.5/1.01) + (1-delta)*z1 - z2)\n",
    "            \n",
    "#Define the feasible return matrix\n",
    "M1 = utility1(K1,K2)\n",
    "M1[np.isnan(M1)] = -1000\n",
    "\n",
    "#Now, stack the two submatrixes to get the stochastic return matrix M. \n",
    "M= np.vstack((M0,M1))\n",
    "\n",
    "#STEP 4: VALUE FUNCTION MATRIX ITERATION\n",
    "#Notice that since the expectation of the shock is 1, the vector V and W are the same. So we can proceed as before. \n",
    "X = np.empty(shape=[200,100])\n",
    "G= np.empty(shape=[200, 350])\n",
    "count=0\n",
    "for s in range(0,349):\n",
    "    epsilon=0.01\n",
    "    for i in range(200):\n",
    "        for j in range(100):\n",
    "                X[i,j]=M[i,j]+(beta*V[:,s][i])        \n",
    "    for i in range(0,200):\n",
    "        V[:,s+1][i]= np.amax(X[i,:]) #Iteration\n",
    "        G[:,s][i]=np.argmax(X[i,:]) # This line stores the policy function at each iteration. \n",
    "    for i in range(0,200):\n",
    "        if abs(V[:,s+1][i]-V[:,s][i])> epsilon:\n",
    "            continue\n",
    "        else:\n",
    "            count +=1\n",
    "            break\n",
    "            \n",
    "#Simulate a shock history\n",
    "shocks=np.random.choice([1.01,(1/1.01)],size=100,p=[0.5,0.5])\n",
    "G=G[:,335]\n",
    "G_good=G[0:100]\n",
    "G_bad=G[100:200]\n",
    "index=np.ones((100))\n",
    "index[0]=0\n",
    "for i in range (99): #Get the indexes of capital\n",
    "    if shocks[i]==1.01:\n",
    "        index[i+1]=G_good[int(index[i])]\n",
    "    else:\n",
    "        index[i+1]=G_bad[int(index[i])]\n",
    "\n",
    "#Get the history of capital\n",
    "kapital=np.empty(100)\n",
    "for i in range(100):\n",
    "    kapital[i]=k[int(index[i])]\n",
    "kapital \n",
    "\n",
    "#History of consumption and output\n",
    "output=np.empty(100)\n",
    "for i in range(99):\n",
    "    output[i]=pow(kapital[i],1-theta)\n",
    "\n",
    "consumption=np.empty(100)\n",
    "for i in range(99):\n",
    "    consumption[i]=output[i] + (1-delta)*kapital[i] - kapital[i+1]\n",
    "\n",
    "#PLOT\n",
    "plt.figure()\n",
    "time=np.linspace(0,100,100)\n",
    "plt.subplot(131)\n",
    "plt.plot(time,kapital)\n",
    "plt.title('Capital history')\n",
    "\n",
    "plt.subplot(132)\n",
    "plt.plot(time,output)\n",
    "plt.title('Output history')\n",
    "#plt.xlim([0,90])\n",
    "\n",
    "plt.subplot(133)\n",
    "plt.plot(time,consumption)\n",
    "plt.title('Consumption history')\n",
    "plt.subplots_adjust(top=0.9, bottom=0.1, left=0, right=1.5, hspace=0.5, wspace=0.5)\n",
    "plt.ylim([0,5])\n",
    "\n",
    "\n"
   ]
  },
  {
   "cell_type": "markdown",
   "metadata": {},
   "source": [
    "We got a weird simulation. It looks like the feasibility constraint is not applying, and then, we use more resources than we have to obtain the steady state capital in the very first period and then we stay there (same thing happens to output and consumption: we reach the steady state value in the second period and we stay there). \n",
    "\n",
    "**Question 2.3. Filtering**"
   ]
  },
  {
   "cell_type": "code",
   "execution_count": 4,
   "metadata": {},
   "outputs": [
    {
     "name": "stdout",
     "output_type": "stream",
     "text": [
      "Variance of capital: 3.602101723556259\n",
      "Variance of output: 0.11915140643702589\n",
      "Variance of consumption: 4.458751722331993\n"
     ]
    },
    {
     "data": {
      "image/png": "[encoded data removed]",
      "text/plain": [
       "<Figure size 432x288 with 3 Axes>"
      ]
     },
     "metadata": {},
     "output_type": "display_data"
    }
   ],
   "source": [
    "#FILTER\n",
    "import statsmodels.api as sm\n",
    "var_kapital=np.var(kapital)\n",
    "var_output=np.var(output)\n",
    "var_consumption=np.var(consumption)\n",
    "print('Variance of capital:',var_kapital )\n",
    "print('Variance of output:',var_output )\n",
    "print('Variance of consumption:',var_consumption )\n",
    "cycle1, trend1 = sm.tsa.filters.hpfilter(kapital, 6.25)\n",
    "cycle2, trend2 = sm.tsa.filters.hpfilter(output, 6.25)\n",
    "cycle3, trend3 = sm.tsa.filters.hpfilter(output, 6.25)\n",
    "\n",
    "plt.figure()\n",
    "\n",
    "plt.subplot(131)\n",
    "plt.plot(time, trend1, label='Trend')\n",
    "plt.plot(time,kapital, label='Simulated data')\n",
    "plt.plot(time,cycle1, label='Cycle')\n",
    "plt.legend()\n",
    "plt.title('HP filter (capital)')\n",
    "plt.xlabel('Time')\n",
    "plt.ylabel('Capital')\n",
    "\n",
    "plt.subplot(132)\n",
    "plt.plot(time, trend2, label='Trend')\n",
    "plt.plot(time,output, label='Simulated data')\n",
    "plt.plot(time,cycle2, label='Cycle')\n",
    "plt.legend()\n",
    "plt.title('HP filter (output)')\n",
    "plt.xlabel('Time')\n",
    "plt.ylabel('Output')\n",
    "\n",
    "plt.subplot(133)\n",
    "plt.plot(time, trend3, label='Trend')\n",
    "plt.plot(time,consumption, label='Simulated data')\n",
    "plt.plot(time,cycle3, label='Cycle')\n",
    "plt.legend()\n",
    "plt.title('HP filter (consumption)')\n",
    "plt.xlabel('Time')\n",
    "plt.ylabel('Consumption')\n",
    "plt.ylim([0,3])\n",
    "\n",
    "plt.subplots_adjust(top=0.9, bottom=0.1, left=0, right=1.5, hspace=0.5, wspace=0.5)"
   ]
  },
  {
   "cell_type": "markdown",
   "metadata": {},
   "source": [
    "Since the simulations got are weird, the filtering looks a bit strange as well. The only interesting thing we detect is what happens in the very first period (the only change we have in our simulated series). We should review this part of the code. No time for more. "
   ]
  },
  {
   "cell_type": "code",
   "execution_count": null,
   "metadata": {},
   "outputs": [],
   "source": []
  }
 ],
 "metadata": {
  "kernelspec": {
   "display_name": "Python 3",
   "language": "python",
   "name": "python3"
  },
  "language_info": {
   "codemirror_mode": {
    "name": "ipython",
    "version": 3
   },
   "file_extension": ".py",
   "mimetype": "text/x-python",
   "name": "python",
   "nbconvert_exporter": "python",
   "pygments_lexer": "ipython3",
   "version": "3.6.5"
  }
 },
 "nbformat": 4,
 "nbformat_minor": 2
}
