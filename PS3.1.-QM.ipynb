{
 "cells": [
  {
   "cell_type": "markdown",
   "metadata": {},
   "source": [
    "<h1>Problem Set 3</h1> \n",
    "<h3><center>Quantitative Macro</center></h3>\n",
    "\n",
    "<center>Pau Belda-i-Tortosa</center>,\n",
    "\n",
    "<center>October 2018</center>"
   ]
  },
  {
   "cell_type": "markdown",
   "metadata": {},
   "source": [
    "<h3>Question 1: Computing transitions in a RA economy.</h3>\n",
    "\n",
    "Consider the typical Neoclassical Growth Model (NGM), with a Cobb-Douglas production function that includes a productivity parameter z. \n",
    "\n",
    "*a) Compute the steady-state. Choose z to match an annual capital-output ratio of 4, and an\n",
    "investment-output ratio of .25.*"
   ]
  },
  {
   "cell_type": "markdown",
   "metadata": {},
   "source": [
    "We have a system of five equations (the steady state Euler Equation, the production function, the budget constraint, the capital-output ratio, the investment-output ratio) and FIVE unknowns (capital, output, consumption, beta, delta). Solving this system of nonlinear equations we get the steady state values:\n",
    "\n",
    "(1) $EE_{ss}: 1 = \\beta(1+F_k - \\delta)$\n",
    "\n",
    "(2) Production function: $y = k^{1-\\theta}(zh)^\\theta$\n",
    "\n",
    "(3) Budget constraint: $c^* = y^* - \\delta k^*$\n",
    "\n",
    "(4) Capital-output ratio: $k^*/y^*=4$\n",
    "\n",
    "(5) Investment-ouptut ratio: $\\frac{\\delta^* k^*}{Y^*} = 0.25$\n",
    "where\n",
    "\n",
    "$F_k = (1-\\delta)(\\frac{zh}{k})^\\theta$\n",
    "\n",
    "and the initial values are:\n",
    "$h = 0.31$; $\\theta=0.67$.   "
   ]
  },
  {
   "cell_type": "code",
   "execution_count": 3,
   "metadata": {},
   "outputs": [
    {
     "name": "stdout",
     "output_type": "stream",
     "text": [
      "SS capital= 4.00\n",
      "SS output= 1.00\n",
      "SS consumption= 0.75\n",
      "beta= 0.98\n",
      "delta 0.0625\n"
     ]
    }
   ],
   "source": [
    "from numpy import *\n",
    "from scipy.optimize import *\n",
    "\n",
    "def Ramsey(x):\n",
    "    h=0.31\n",
    "    theta=0.67\n",
    "    z=1.63\n",
    "    k = x[0]\n",
    "    y = x[1]\n",
    "    c = x[2]\n",
    "    beta = x[3]\n",
    "    delta = x[4]\n",
    "\n",
    "    F = empty((5))\n",
    "    F[0]= 1 - beta*(1 - delta + (1-theta)*pow(z*h, theta)*pow(k, -theta))               \n",
    "    F[1]= y - pow(k, 1-theta)*pow(z*h, theta)\n",
    "    F[2]= c - y + delta*k\n",
    "    F[3]= k/y - 4\n",
    "    F[4]=(delta*k)/y - 0.25\n",
    "    return F\n",
    "\n",
    "xGuess= array([4,1,1,1,0.06])\n",
    "x = fsolve(Ramsey, xGuess)\n",
    "print (\"SS capital=\", \"{0:.2f}\".format(x[0]))\n",
    "print (\"SS output=\", \"{0:.2f}\".format(x[1]))\n",
    "print (\"SS consumption=\", \"{0:.2f}\".format(x[2]))\n",
    "print (\"beta=\", \"{0:.2f}\".format(x[3]))\n",
    "print (\"delta\", \"{0:.4f}\".format(x[4]))  "
   ]
  },
  {
   "cell_type": "markdown",
   "metadata": {},
   "source": [
    "Now we have the parameters values that makes the system of equations reach a nice solution. What is next? We are gonna program the Ramsey model as a Python class and solve the next exercises inside this environment. "
   ]
  },
  {
   "cell_type": "code",
   "execution_count": 4,
   "metadata": {},
   "outputs": [],
   "source": [
    "import numpy as np\n",
    "import mpmath as mp\n",
    "import sympy\n",
    "import matplotlib.pyplot as plt\n",
    "import matplotlib as mpl\n",
    "from mpl_toolkits.mplot3d import Axes3D\n",
    "from scipy import optimize\n",
    "\n",
    "class ramseyModel(object):\n",
    "    \n",
    "    def __init__(self, params, k=None, c=None):\n",
    "        \"\"\"\n",
    "        Represents the Ramsey model \n",
    "        \n",
    "        Definition of exogenous parameters of the Ramsey Model\n",
    "            1) theta: labor share.  \n",
    "            2) beta: discount factor\n",
    "            3) z: initial level of technology\n",
    "            4) delta: rate of capital depreciation\n",
    "            5) h: hours of labor\n",
    "\n",
    "\n",
    "        Attributes: \n",
    "            1) params: a dictionary of parameters and their values\n",
    "            2) k: an initial condition for the state variable k \n",
    "            3) c: an initial condition for the control variable c\n",
    "        \n",
    "        \"\"\"\n",
    "        # current value of state variable, k\n",
    "        self.k            = k\n",
    "        # current value of the control variable, c\n",
    "        self.c            = c\n",
    "        # dictionary of parameter values\n",
    "        self.param_dict   = params\n",
    "        # dictionary of steady state values        \n",
    "        self.SS_dict      = {'k_ss':self.set_k_ss(self.param_dict), \n",
    "                             'c_ss':self.set_c_ss(self.param_dict),\n",
    "                             's_ss':self.set_s_ss(self.param_dict)}\n",
    "\n",
    "         \n",
    "    def set_k_ss(self, params): \n",
    "        \"\"\"\n",
    "        The steady-state level of capital stock is a function of the exogenous parameters.\n",
    "        \"\"\"\n",
    "        # extract params\n",
    "        delta = params['delta']\n",
    "        beta   = params['beta']\n",
    "        theta = params['theta']\n",
    "        h = params ['h']\n",
    "        z = params ['z']\n",
    "        v = params ['v']\n",
    "        \n",
    "    \n",
    "        return pow(((1-theta)/((1/beta)+delta+v-1)), (1/theta))*(z*h)\n",
    "    \n",
    "    def set_c_ss(self, params): \n",
    "        \"\"\"\n",
    "        The steady-state level of consumption per effective worker is a direct \n",
    "        function of the exogenous parameters and the steady-state level of capital\n",
    "        stock. \n",
    "        \"\"\"\n",
    "        # extract params\n",
    "        theta = params['theta']\n",
    "        h = params ['h']\n",
    "        delta  = params['delta']\n",
    "        z = params ['z']\n",
    "        k_ss = self.set_k_ss(params)\n",
    "        \n",
    "        return pow(k_ss, 1-theta)*pow(z*h, theta) - delta*k_ss\n",
    "\n",
    "    def set_s_ss(self, params):\n",
    "        \"\"\" \n",
    "        Steady state savings rate of the Ramsey economy\n",
    "        \"\"\"\n",
    "        # extract params\n",
    "        delta = params['delta']\n",
    "        return delta\n",
    "\n",
    "    def capital(self, k, c):\n",
    "        \"\"\"\n",
    "        Law of motion of capital.\n",
    "        Inputs: k_t, c_t\n",
    "        Returns: k_t+1\n",
    "        \"\"\"\n",
    "        # extract params\n",
    "        theta = self.param_dict['theta']\n",
    "        delta = self.param_dict['delta']\n",
    "        h = self.param_dict['h']\n",
    "        z = self.param_dict['z']\n",
    "        v = self.param_dict['v']\n",
    "    \n",
    "        return pow(k, 1-theta)*pow(z*h, theta) - c + (1-delta-v)*k\n",
    " \n",
    "    def ee(self, k, c):\n",
    "        \"\"\"\n",
    "        Euler equation, which shows the inter-temporal trade-off between today's and tomorrow's \n",
    "        consumption.\n",
    "        Inputs: k_t, c_t\n",
    "        Returns: c_t+1      \n",
    "        \"\"\"\n",
    "        # extract params\n",
    "        h = self.param_dict['h']\n",
    "        z = self.param_dict['z']\n",
    "        delta = self.param_dict['delta']\n",
    "        theta = self.param_dict['theta']\n",
    "        beta = self.param_dict['beta']\n",
    "        v = self.param_dict['v']\n",
    "    \n",
    "        return c*beta*(1 - delta - v + (1-theta)*pow(z*h, theta)*pow(k, -theta))\n",
    "\n",
    "    def nextperiod(self):\n",
    "        \"\"\"\n",
    "        Update the state and control variables.           \n",
    "        \"\"\"\n",
    "        self.k = self.capital(self.k, self.c) \n",
    "        self.c = self.ee(self.k, self.c)\n",
    "\n",
    "    def sample_path(self, n=None):\n",
    "        \"\"\"\n",
    "        Generate sample path of length n starting from the current state\n",
    "        \"\"\"\n",
    "        path = np.zeros(shape=(n, 2))\n",
    "        \n",
    "        for t in range(n):\n",
    "            path[t, 0] = self.k\n",
    "            path[t, 1] = self.c\n",
    "            self.nextperiod()\n",
    "        \n",
    "        return path\n",
    "\n",
    "    def ss(self, k0=None, c0=None):\n",
    "        \"\"\"     \n",
    "        Finds the steady state for the Ramsey economy using a root solver and an initial guess.        \n",
    "        \"\"\"\n",
    "        \n",
    "        def ramseySS(x): \n",
    "            out = [self.capital(x[0], x[1]) - x[0]] # k_t+1=k_t\n",
    "            out.append(self.ee(x[0], x[1]) - x[1]) # c_t+1=c_t\n",
    "            return out\n",
    "        x=optimize.fsolve(func=ramseySS, x0=(k0, c0))\n",
    "        return x\n",
    "\n",
    "    def forward_shoot(self, k0=None, c0=None, tol=1.5e-08):\n",
    "        \"\"\"       \n",
    "        Computes the full, non-linear saddle path for the Ramsey model using the \n",
    "        'forward shooting' algorithm (Judd (1992)).         \n",
    "        \"\"\"\n",
    "        # extract params\n",
    "        theta = self.param_dict['theta']\n",
    "        h = self.param_dict['h']\n",
    "        z = self.param_dict['z']\n",
    "        \n",
    "        # compute steady state values\n",
    "        k_ss, c_ss = self.SS_dict['k_ss'], self.SS_dict['c_ss']\n",
    "        \n",
    "        if k0 <= k_ss:\n",
    "            c_l = 0\n",
    "            c_h = c_ss\n",
    "        else:\n",
    "            c_l = c_ss\n",
    "            c_h = pow(k0, 1-theta)*pow(z*h, theta) \n",
    "        c0 = (c_h + c_l) / 2\n",
    "        self.k, self.c = k0, c0\n",
    "        \n",
    "        # Initialize a counter\n",
    "        count  = 0\n",
    "        n_iter = 0\n",
    "\n",
    "        # Forward Shooting Algorithm\n",
    "        while 1:\n",
    "            self.nextperiod()\n",
    "            dist = np.abs(((self.k - k_ss)**2 + (self.c - c_ss)**2)**0.5)\n",
    "            count = count + 1\n",
    "            if k0 <= k_ss:\n",
    "                if self.k > k_ss:\n",
    "                    if dist < tol:\n",
    "                        break\n",
    "                    else: # initial c_l too low!\n",
    "                        c_l = c0\n",
    "                        c0 = (c_h + c_l) / 2\n",
    "                        self.k, self.c = k0, c0\n",
    "                        count = 0\n",
    "                if self.c > c_ss:\n",
    "                    if dist < tol:\n",
    "                        break\n",
    "                    else: # initial c_h too high!\n",
    "                        c_h = c0 \n",
    "                        c0 = (c_h + c_l) / 2\n",
    "                        self.k, self.c = k0, c0\n",
    "                        count = 0\n",
    "            else:\n",
    "                if self.k < k_ss:\n",
    "                    if dist < tol:\n",
    "                        break\n",
    "                    else: # initial c_l too high!\n",
    "                        c_h = c0 \n",
    "                        c0 = (c_h + c_l) / 2\n",
    "                        self.k, self.c = k0, c0\n",
    "                        count = 0\n",
    "                if self.c < c_ss:\n",
    "                    if dist < tol:\n",
    "                        break\n",
    "                    else: # initial c_l too low!\n",
    "                        c_l = c0\n",
    "                        c0 = (c_h + c_l) / 2\n",
    "                        self.k, self.c = k0, c0\n",
    "                        count = 0\n",
    "                \n",
    "        self.k, self.c = k0, c0\n",
    "        solutionPath = self.sample_path(count)\n",
    "\n",
    "\n",
    "        return [self.c, solutionPath, count, dist]    "
   ]
  },
  {
   "cell_type": "markdown",
   "metadata": {},
   "source": [
    "To check that this class is working well, let's solve again the first steady state. "
   ]
  },
  {
   "cell_type": "code",
   "execution_count": 5,
   "metadata": {},
   "outputs": [
    {
     "name": "stdout",
     "output_type": "stream",
     "text": [
      "SS capital= 4.00\n",
      "SS consumption= 0.75\n",
      "SS output= 1.00\n",
      "capital/output= 4.00\n",
      "investment/output 0.25\n"
     ]
    }
   ],
   "source": [
    "# Steady state of section 1a)\n",
    "\n",
    "# create a dictionary objects storing the parameter values\n",
    "params = {'theta':0.67, 'delta':0.0625, 'h':0.31, 'beta':0.9804, 'z':1.63, 'v':0}\n",
    "# Create an instance of the class ramseyDS\n",
    "ramsey = ramseyModel(params)\n",
    "\n",
    "\n",
    "solution=ramsey.ss(k0=3, c0=0.8)\n",
    "k_ss=solution[0]\n",
    "c_ss=solution[1]\n",
    "y_ss=0.0625*k_ss+c_ss\n",
    "v=k_ss/y_ss\n",
    "t=0.0625*k_ss/y_ss\n",
    "print (\"SS capital=\", \"{0:.2f}\".format(solution[0]))\n",
    "print (\"SS consumption=\", \"{0:.2f}\".format(solution[1]))\n",
    "print (\"SS output=\", \"{0:.2f}\".format(y_ss))\n",
    "print (\"capital/output=\", \"{0:.2f}\".format(v))\n",
    "print (\"investment/output\", \"{0:.2f}\".format(t))"
   ]
  },
  {
   "cell_type": "markdown",
   "metadata": {},
   "source": [
    "Indeed, we get the same solutions as before. Now let's do section b):\n",
    "\n",
    "**Double permanently the productiviy parameter z and solve for the new steady state.**"
   ]
  },
  {
   "cell_type": "code",
   "execution_count": 6,
   "metadata": {},
   "outputs": [
    {
     "name": "stdout",
     "output_type": "stream",
     "text": [
      "SS capital= 8.00\n",
      "SS consumption= 1.50\n",
      "SS output= 2.00\n",
      "capital/output= 4.00\n",
      "investment/output 0.25\n"
     ]
    }
   ],
   "source": [
    "# Steady state of section 1b) Shock over productivity. \n",
    "params = {'theta':0.67, 'delta':0.0625, 'h':0.31, 'beta':0.9804, 'z':3.26, 'v':0}\n",
    "ramsey = ramseyModel(params)\n",
    "solution=ramsey.ss(k0=4, c0=1)\n",
    "k_ss=solution[0]\n",
    "c_ss=solution[1]\n",
    "y_ss=0.0625*k_ss+c_ss\n",
    "v=k_ss/y_ss\n",
    "t=0.0625*k_ss/y_ss\n",
    "print (\"SS capital=\", \"{0:.2f}\".format(solution[0]))\n",
    "print (\"SS consumption=\", \"{0:.2f}\".format(solution[1]))\n",
    "print (\"SS output=\", \"{0:.2f}\".format(y_ss))\n",
    "print (\"capital/output=\", \"{0:.2f}\".format(v))\n",
    "print (\"investment/output\", \"{0:.2f}\".format(t))"
   ]
  },
  {
   "cell_type": "markdown",
   "metadata": {},
   "source": [
    "Doubling the productivity we double capital, consumption and output. "
   ]
  },
  {
   "cell_type": "markdown",
   "metadata": {},
   "source": [
    "**c) Compute the transition from the first to the second steady state and report the time-path for savings, consumption, labor and output.**"
   ]
  },
  {
   "cell_type": "code",
   "execution_count": null,
   "metadata": {},
   "outputs": [],
   "source": [
    "#Set the new set of parameters\n",
    "params = {'theta':0.67, 'delta':0.0625, 'h':0.31, 'beta':0.9804, 'z':3.26, 'v':0}\n",
    "\n",
    "# solve for the non-linear saddle path\n",
    "ramsey = ramseyModel(params)\n",
    "transition_1 = ramsey.forward_shoot(k0=4,c0=0.75, tol=1.5e-4)\n",
    "\n",
    "#Transition values for output\n",
    "transition_1=transition_1[1]\n",
    "y1=[]\n",
    "for i in range(0,97):\n",
    "    q=0.0625*transition_1[i,0]+transition_1[i,1]\n",
    "    y1.append(q)\n",
    "y1=np.asarray(y1)\n",
    "transition_1=np.asarray(transition_1)\n",
    "k_transition=transition_1[:,0]\n",
    "c_transition=transition_1[:,1]\n",
    "s_transition=[]\n",
    "for i in range (0,97):\n",
    "    s = (y1[i]-c_transition[i])/k_transition[i]\n",
    "    s_transition.append(s)"
   ]
  },
  {
   "cell_type": "markdown",
   "metadata": {},
   "source": [
    "A way to analize the transition is by graphical analysis. This is a way to do it:"
   ]
  },
  {
   "cell_type": "code",
   "execution_count": 8,
   "metadata": {},
   "outputs": [
    {
     "data": {
      "text/plain": [
       "Text(0.5,1,'Figure 1: Phase Space & Transition')"
      ]
     },
     "execution_count": 8,
     "metadata": {},
     "output_type": "execute_result"
    },
    {
     "data": {
      "image/png": "[encoded data removed]",
      "text/plain": [
       "<Figure size 576x432 with 1 Axes>"
      ]
     },
     "metadata": {},
     "output_type": "display_data"
    }
   ],
   "source": [
    "# Graphycal analysis\n",
    "theta=0.67\n",
    "delta=0.0625\n",
    "z=1.63\n",
    "h=0.31\n",
    "beta=0.9804\n",
    "k_s0=4.00\n",
    "c_s0=0.75\n",
    "k_ss=8.00\n",
    "c_ss=1.5\n",
    "\n",
    "\n",
    "def locusK(k):\n",
    "    \"\"\"\n",
    "    A function that takes k as an input and return the value of c consistent with k_t+1=k_t    \n",
    "    \"\"\"\n",
    "    return pow(k, 1-theta)*pow(z*h, theta) - delta*k\n",
    "\n",
    "# Create a grid of points for plotting\n",
    "gridmax, gridsize = 200, 10000\n",
    "grid = np.linspace(0, gridmax, gridsize)\n",
    "\n",
    "# Create a new figure\n",
    "fig1=plt.figure(figsize=(8,6))\n",
    "# Add the c and k locii\n",
    "plt.plot(grid, locusK(grid), '-', color='orange', label=r'$\\Delta k=0$')\n",
    "z=3.25\n",
    "plt.plot(grid, locusK(grid), '-', color='green', label=r'$\\Delta k1=0$')\n",
    "plt.axvline(k_s0, color='grey', label=r'$\\Delta c=0$')\n",
    "plt.plot(k_s0, c_s0, marker='.', markersize=12, color='k')\n",
    "plt.axvline(k_ss, color='black', label=r'$\\Delta c1=0$')\n",
    "plt.plot(k_ss, c_ss, marker='.', markersize=12, color='k')\n",
    "plt.plot(k_transition, c_transition, color='red', label='Transition')\n",
    "\n",
    "# Add arrows to indicate out of steady-state dynamics\n",
    "x_len = 0.02 * gridmax \n",
    "y_len = 1 / x_len   \n",
    "\n",
    "plt.arrow(x=0.3 * k_ss, y=0.2 * c_ss, dx=0, dy=y_len)\n",
    "plt.arrow(x=0.3 * k_ss, y=0.2 * c_ss, dx=x_len, dy=0)\n",
    "\n",
    "plt.arrow(x=0.1 * k_ss + x_len, y=1 * c_ss, dx=0, dy=y_len)\n",
    "plt.arrow(x=0.1 * k_ss + x_len, y=1 * c_ss, dx=-x_len, dy=0)\n",
    "\n",
    "plt.arrow(x=3.5 * k_ss, y=0.4 * c_ss + y_len, dx=0, dy=-y_len)\n",
    "plt.arrow(x=3.5 * k_ss, y=0.4 * c_ss + y_len, dx=x_len, dy=0)\n",
    "\n",
    "\n",
    "plt.arrow(x=3.5 * k_ss + x_len, y=1 * c_ss + y_len, dx=0, dy=-y_len)\n",
    "plt.arrow(x=3.5 * k_ss + x_len, y=1 * c_ss + y_len, dx=-x_len, dy=0)\n",
    "\n",
    "#Set the axis, labels and title. \n",
    "plt.ylim(0, 2)\n",
    "plt.xlim(-5, 70)\n",
    "plt.xlabel('Capital')\n",
    "plt.ylabel('Consumption')\n",
    "plt.legend(frameon=False)\n",
    "plt.title('Figure 1: Phase Space & Transition', fontsize=16)"
   ]
  },
  {
   "cell_type": "markdown",
   "metadata": {},
   "source": [
    "The transition we got is inside the balance path. As the arrows are pointing out, if the economy fall either in the upper left area or the lower right area, the economy get trap in a divergence path. "
   ]
  },
  {
   "cell_type": "markdown",
   "metadata": {},
   "source": [
    "**d) Unexpected shocks.**\n",
    "\n",
    "*Let the agents believe productivity $z_t$ doubles once and for all periods. However, after 10 periods, surprise the economy by cutting the productivity $z_t$ back to its original value. Compute the transition for savings, consumption, labor and output.*"
   ]
  },
  {
   "cell_type": "code",
   "execution_count": 22,
   "metadata": {},
   "outputs": [
    {
     "data": {
      "text/plain": [
       "Text(0.5,1,'Graph 2: Unexpected productivity shock')"
      ]
     },
     "execution_count": 22,
     "metadata": {},
     "output_type": "execute_result"
    },
    {
     "data": {
      "image/png": "[encoded data removed]",
      "text/plain": [
       "<Figure size 576x432 with 1 Axes>"
      ]
     },
     "metadata": {},
     "output_type": "display_data"
    }
   ],
   "source": [
    "# The economy is in its new SS for 10 periods prior to return to its initial value. \n",
    "k_ss= 8.00\n",
    "c_ss=1.50\n",
    "y_ss=2.00\n",
    "s_ss=0.0625\n",
    "a = [(k_ss, c_ss)]\n",
    "Path1 = np.repeat(a, 10, axis=0)\n",
    "Pathy = np.repeat(y_ss,10)\n",
    "paths = np.repeat(s_ss,10)\n",
    "\n",
    "# shock z (Double the productivity)\n",
    "params = {'theta':0.67, 'delta':0.0625, 'h':0.31, 'beta':0.9804, 'z':1.625, 'v':0}\n",
    "ramsey= ramseyModel(params)\n",
    "\n",
    "\n",
    "# solve for the non-linear saddle path\n",
    "transition_2 = ramsey.forward_shoot(k0=k_ss, tol=1.5e-4)\n",
    "\n",
    "#Transition values for output\n",
    "transition_2=transition_2[1]\n",
    "y2=[]\n",
    "for i in range(0,99):\n",
    "    q=0.0625*transition_2[i,0]+transition_2[i,1]\n",
    "    y2.append(q)\n",
    "y2=np.asarray(y2)\n",
    "transition_2=np.asarray(transition_2)\n",
    "k_transition=transition_2[:,0]\n",
    "c_transition=transition_2[:,1]\n",
    "s_transition2=[]\n",
    "for i in range (0,97):\n",
    "    s = (y2[i]-c_transition[i])/k_transition[i]\n",
    "    s_transition2.append(s)\n",
    "\n",
    "line = np.ones(206)*4\n",
    "line2= np.ones(206)*0.75\n",
    "line3=np.ones(206)*1\n",
    "line4=np.ones(204)*0.0625\n",
    "path=np.concatenate((transition_1, Path1,transition_2))\n",
    "y_transition=np.concatenate((y1,Pathy,y2))\n",
    "s_trans = np.concatenate((s_transition,paths,s_transition2))\n",
    "k_transition=path[:,0]\n",
    "c_transition=path[:,1]\n",
    "\n",
    "# PLOT\n",
    "fig = plt.figure(figsize=(8,6))\n",
    "grid = np.arange(0, 206, 1)\n",
    "grid1 = np.arange(0, 204, 1)\n",
    "plt.plot(grid, k_transition, 'r', label='Capital')\n",
    "plt.plot(grid, y_transition, color='orange', label='Output')\n",
    "plt.plot(grid, c_transition, color='blue', label='Consumption')\n",
    "plt.plot(grid1, s_trans, color='green', label='Savings rate')\n",
    "plt.plot(grid, line, 'k--', linewidth=0.5)\n",
    "plt.plot(grid, line3, 'k--',linewidth=0.5 )\n",
    "plt.plot(grid, line2, 'k--',linewidth=0.5 )\n",
    "plt.plot(grid1, line4, 'k--',linewidth=0.5 )\n",
    "plt.axvline(97, color='grey')\n",
    "plt.axvline(107, color='grey')\n",
    "plt.xlabel('Periods')\n",
    "plt.ylabel('Capital, output & consumption')\n",
    "plt.xlim(0, 210)\n",
    "plt.legend(frameon=False)\n",
    "plt.title('Graph 2: Unexpected productivity shock', fontsize=16)\n"
   ]
  },
  {
   "cell_type": "markdown",
   "metadata": {},
   "source": [
    "Graph 2 shows the transitions to both shocks. Grey lines are pointing out the stability phase (10 periods in the high productivity steady state). What we see is that there is the same story for capital, output and consumption: the converge to the second SS, and when the unexpected productivity shock happens, they go back the initial steady state. The story with the savings rate is different: it remains constant being equal to the depreciation rate no matter what is going one (meaning that capital and output are evolving keeping their ratio constant!). "
   ]
  },
  {
   "cell_type": "markdown",
   "metadata": {},
   "source": [
    "**e) Speed of transition with taxes**\n",
    "\n",
    "*Can taxes explain differences in the speed of transition to steady-state?*\n",
    "\n",
    "e1) **Permanent consumption tax**."
   ]
  },
  {
   "cell_type": "markdown",
   "metadata": {},
   "source": [
    "Adding a permanent consumption tax $t$ changes the budget constraints of the RA as follows:\n",
    "\n",
    "$(1+t_t)c_t + k_{t+1}=f(k_t,h_t) + (1-\\delta)k_t$\n",
    "\n",
    "As a consequence, the Euler Equation is gonna look like this: \n",
    "\n",
    "$EE^t = \\frac{c_{t+1}}{c_t}=\\beta \\frac{1+t_t}{1+t_{t+1}}(1+F_k - \\delta)$\n",
    "\n",
    "If the permanent consumption tax is consumption across periods (i.e., $t_t=t_{t+1}=t$), and then, the old EE is restored (i.e., $EE^t=EE$). If this is the case, nothing changes. \n",
    "\n"
   ]
  },
  {
   "cell_type": "markdown",
   "metadata": {},
   "source": [
    "e2) **Permanent capital tax**"
   ]
  },
  {
   "cell_type": "markdown",
   "metadata": {},
   "source": [
    "Either if we assume a capital income tax or a capital property tax, the budget constraint will look like: \n",
    "\n",
    "$c_t + k_{t+1} = f(k_t,h_t) + (1 - \\delta - v)k_t$\n",
    "\n",
    "where $v$ is the capital tax. Then, the introduction of a capital tax will create an extended depreciation rate. It will impact over both, the Euler Equation and the law of motion of capital in this way:\n",
    "\n",
    "$EE^v: \\frac{c_{t+1}}{c_t}=\\beta \\frac{1+t_t}{1+t_{t+1}}(1+F_k - \\delta -v)$\n",
    "\n",
    "$LoM: k_{t+1}= f(k_t,h_t) - c_t + (1 - \\delta - v)k_t$\n",
    "\n",
    "In turn, it will impact the steady state levels of capital, and then, consumption and output:\n",
    "\n",
    "$k^*= (\\frac{1-\\theta}{\\frac{1}{\\beta}+\\delta + v -1})^{\\frac{1}{\\delta}} zh$\n",
    "\n",
    "Then, the capital tax will beat both the steady state level and the transition. Let's compute that, starting from the initial technology level (introducing the productivity shock after that). In terms of our code, the only thing we need to do is to change the value of v from 0 to 0.15."
   ]
  },
  {
   "cell_type": "code",
   "execution_count": 28,
   "metadata": {},
   "outputs": [
    {
     "name": "stdout",
     "output_type": "stream",
     "text": [
      "SS capital= 1.97\n",
      "SS consumption= 0.57\n",
      "SS output= 0.69\n",
      "capital/output= 2.85\n",
      "investment/output 0.18\n"
     ]
    }
   ],
   "source": [
    "# Steady state with old parameters and capital tax. \n",
    "params = {'theta':0.67, 'delta':0.0625, 'h':0.31, 'beta':0.9804, 'z':1.63, 'v':0.05}\n",
    "ramsey = ramseyModel(params)\n",
    "solution=ramsey.ss(k0=4, c0=1)\n",
    "k_s0=solution[0]\n",
    "c_s0=solution[1]\n",
    "y_s0=0.0625*k_s0+c_s0\n",
    "v=k_s0/y_s0\n",
    "t=0.0625*k_s0/y_s0\n",
    "print (\"SS capital=\", \"{0:.2f}\".format(solution[0]))\n",
    "print (\"SS consumption=\", \"{0:.2f}\".format(solution[1]))\n",
    "print (\"SS output=\", \"{0:.2f}\".format(y_s0))\n",
    "print (\"capital/output=\", \"{0:.2f}\".format(v))\n",
    "print (\"investment/output\", \"{0:.2f}\".format(t))"
   ]
  },
  {
   "cell_type": "code",
   "execution_count": 29,
   "metadata": {},
   "outputs": [
    {
     "name": "stdout",
     "output_type": "stream",
     "text": [
      "SS capital= 3.95\n",
      "SS consumption= 1.14\n",
      "SS output= 1.39\n",
      "capital/output= 2.85\n",
      "investment/output 0.18\n"
     ]
    }
   ],
   "source": [
    "# Steady state with capital tax after productivity shock\n",
    "params = {'theta':0.67, 'delta':0.0625, 'h':0.31, 'beta':0.9804, 'z':3.26, 'v':0.05}\n",
    "ramsey = ramseyModel(params)\n",
    "solution=ramsey.ss(k0=4, c0=1)\n",
    "k_ss=solution[0]\n",
    "c_ss=solution[1]\n",
    "y_ss=0.0625*k_ss+c_ss\n",
    "v=k_ss/y_ss\n",
    "t1=0.0625*k_ss/y_ss\n",
    "print (\"SS capital=\", \"{0:.2f}\".format(solution[0]))\n",
    "print (\"SS consumption=\", \"{0:.2f}\".format(solution[1]))\n",
    "print (\"SS output=\", \"{0:.2f}\".format(y_ss))\n",
    "print (\"capital/output=\", \"{0:.2f}\".format(v))\n",
    "print (\"investment/output\", \"{0:.2f}\".format(t1))"
   ]
  },
  {
   "cell_type": "code",
   "execution_count": null,
   "metadata": {},
   "outputs": [],
   "source": [
    "#Compute the transition\n",
    "\n",
    "v=0.05\n",
    "delta=0.0625\n",
    "z2=3.26\n",
    "theta=0.67\n",
    "beta=0.9804\n",
    "time=6\n",
    "ka = empty(time)\n",
    "ya = empty(time)\n",
    "ca = empty(time)\n",
    "ia = empty(time)\n",
    "\n",
    "ka[0] = 1.97\n",
    "ca[0] = 0.57\n",
    "\n",
    "\n",
    "for t in range(time - 1):\n",
    "    ka[t+1] = pow(ka[t], 1-theta)*pow(z2*h, theta) - ca[t] + (1-delta-v)*ka[t]\n",
    "    ca[t+1] = ca[t]*beta*(1 - delta - v + (1-theta)*pow(z2*h, theta)*pow(ka[t], -theta))\n",
    "\n"
   ]
  },
  {
   "cell_type": "markdown",
   "metadata": {},
   "source": [
    "With capital taxes, the speed of converge is much higher. "
   ]
  },
  {
   "cell_type": "code",
   "execution_count": null,
   "metadata": {},
   "outputs": [],
   "source": []
  }
 ],
 "metadata": {
  "kernelspec": {
   "display_name": "Python 3",
   "language": "python",
   "name": "python3"
  },
  "language_info": {
   "codemirror_mode": {
    "name": "ipython",
    "version": 3
   },
   "file_extension": ".py",
   "mimetype": "text/x-python",
   "name": "python",
   "nbconvert_exporter": "python",
   "pygments_lexer": "ipython3",
   "version": "3.6.5"
  }
 },
 "nbformat": 4,
 "nbformat_minor": 2
}
